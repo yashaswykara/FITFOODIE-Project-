{
  "nbformat": 4,
  "nbformat_minor": 0,
  "metadata": {
    "colab": {
      "provenance": [],
      "authorship_tag": "ABX9TyOljMAZRSPrieVHXV/h6OFH",
      "include_colab_link": true
    },
    "kernelspec": {
      "name": "python3",
      "display_name": "Python 3"
    },
    "language_info": {
      "name": "python"
    }
  },
  "cells": [
    {
      "cell_type": "markdown",
      "metadata": {
        "id": "view-in-github",
        "colab_type": "text"
      },
      "source": [
        "<a href=\"https://colab.research.google.com/github/yashaswykara/FITFOODIE-Project-/blob/main/Fitfoodies.ipynb\" target=\"_parent\"><img src=\"https://colab.research.google.com/assets/colab-badge.svg\" alt=\"Open In Colab\"/></a>"
      ]
    },
    {
      "cell_type": "code",
      "source": [
        "pip install pulp"
      ],
      "metadata": {
        "colab": {
          "base_uri": "https://localhost:8080/"
        },
        "id": "7kB_cQT3j6N0",
        "outputId": "cb04922f-d576-4605-9ae8-c8dd9dd6f93f"
      },
      "execution_count": null,
      "outputs": [
        {
          "output_type": "stream",
          "name": "stdout",
          "text": [
            "Looking in indexes: https://pypi.org/simple, https://us-python.pkg.dev/colab-wheels/public/simple/\n",
            "Requirement already satisfied: pulp in /usr/local/lib/python3.9/dist-packages (2.7.0)\n"
          ]
        }
      ]
    },
    {
      "cell_type": "code",
      "source": [
        "import matplotlib.pyplot as plt\n",
        "import numpy as np\n",
        "import pandas as pd \n",
        "from pulp import *\n",
        "import seaborn as sns\n",
        "import random"
      ],
      "metadata": {
        "id": "JIkdJMVsd0Dn"
      },
      "execution_count": null,
      "outputs": []
    },
    {
      "cell_type": "code",
      "source": [
        "data = pd.read_csv('nutrition.csv').drop('Unnamed: 0',axis=1)\n",
        "data.head()"
      ],
      "metadata": {
        "colab": {
          "base_uri": "https://localhost:8080/",
          "height": 386
        },
        "id": "BdGXqFtke5c2",
        "outputId": "ce25af1e-096c-4d74-dd84-a3f1886f6df6"
      },
      "execution_count": null,
      "outputs": [
        {
          "output_type": "execute_result",
          "data": {
            "text/plain": [
              "              name serving_size  calories total_fat saturated_fat cholesterol  \\\n",
              "0       Cornstarch        100 g       381      0.1g           NaN           0   \n",
              "1     Nuts, pecans        100 g       691       72g          6.2g           0   \n",
              "2    Eggplant, raw        100 g        25      0.2g           NaN           0   \n",
              "3   Teff, uncooked        100 g       367      2.4g          0.4g           0   \n",
              "4  Sherbet, orange        100 g       144        2g          1.2g         1mg   \n",
              "\n",
              "     sodium  choline     folate folic_acid  ...      fat  \\\n",
              "0   9.00 mg   0.4 mg   0.00 mcg   0.00 mcg  ...   0.05 g   \n",
              "1   0.00 mg  40.5 mg  22.00 mcg   0.00 mcg  ...  71.97 g   \n",
              "2   2.00 mg   6.9 mg  22.00 mcg   0.00 mcg  ...   0.18 g   \n",
              "3  12.00 mg  13.1 mg          0          0  ...   2.38 g   \n",
              "4  46.00 mg   7.7 mg   4.00 mcg   0.00 mcg  ...   2.00 g   \n",
              "\n",
              "  saturated_fatty_acids monounsaturated_fatty_acids  \\\n",
              "0               0.009 g                     0.016 g   \n",
              "1               6.180 g                    40.801 g   \n",
              "2               0.034 g                     0.016 g   \n",
              "3               0.449 g                     0.589 g   \n",
              "4               1.160 g                     0.530 g   \n",
              "\n",
              "  polyunsaturated_fatty_acids fatty_acids_total_trans alcohol     ash  \\\n",
              "0                     0.025 g                 0.00 mg   0.0 g  0.09 g   \n",
              "1                    21.614 g                 0.00 mg   0.0 g  1.49 g   \n",
              "2                     0.076 g                 0.00 mg   0.0 g  0.66 g   \n",
              "3                     1.071 g                       0       0  2.37 g   \n",
              "4                     0.080 g                 1.00 mg   0.0 g  0.40 g   \n",
              "\n",
              "  caffeine theobromine    water  \n",
              "0  0.00 mg     0.00 mg   8.32 g  \n",
              "1  0.00 mg     0.00 mg   3.52 g  \n",
              "2  0.00 mg     0.00 mg  92.30 g  \n",
              "3        0           0   8.82 g  \n",
              "4  0.00 mg     0.00 mg  66.10 g  \n",
              "\n",
              "[5 rows x 76 columns]"
            ],
            "text/html": [
              "\n",
              "  <div id=\"df-843f5a08-1774-4228-99df-389e193f82d6\">\n",
              "    <div class=\"colab-df-container\">\n",
              "      <div>\n",
              "<style scoped>\n",
              "    .dataframe tbody tr th:only-of-type {\n",
              "        vertical-align: middle;\n",
              "    }\n",
              "\n",
              "    .dataframe tbody tr th {\n",
              "        vertical-align: top;\n",
              "    }\n",
              "\n",
              "    .dataframe thead th {\n",
              "        text-align: right;\n",
              "    }\n",
              "</style>\n",
              "<table border=\"1\" class=\"dataframe\">\n",
              "  <thead>\n",
              "    <tr style=\"text-align: right;\">\n",
              "      <th></th>\n",
              "      <th>name</th>\n",
              "      <th>serving_size</th>\n",
              "      <th>calories</th>\n",
              "      <th>total_fat</th>\n",
              "      <th>saturated_fat</th>\n",
              "      <th>cholesterol</th>\n",
              "      <th>sodium</th>\n",
              "      <th>choline</th>\n",
              "      <th>folate</th>\n",
              "      <th>folic_acid</th>\n",
              "      <th>...</th>\n",
              "      <th>fat</th>\n",
              "      <th>saturated_fatty_acids</th>\n",
              "      <th>monounsaturated_fatty_acids</th>\n",
              "      <th>polyunsaturated_fatty_acids</th>\n",
              "      <th>fatty_acids_total_trans</th>\n",
              "      <th>alcohol</th>\n",
              "      <th>ash</th>\n",
              "      <th>caffeine</th>\n",
              "      <th>theobromine</th>\n",
              "      <th>water</th>\n",
              "    </tr>\n",
              "  </thead>\n",
              "  <tbody>\n",
              "    <tr>\n",
              "      <th>0</th>\n",
              "      <td>Cornstarch</td>\n",
              "      <td>100 g</td>\n",
              "      <td>381</td>\n",
              "      <td>0.1g</td>\n",
              "      <td>NaN</td>\n",
              "      <td>0</td>\n",
              "      <td>9.00 mg</td>\n",
              "      <td>0.4 mg</td>\n",
              "      <td>0.00 mcg</td>\n",
              "      <td>0.00 mcg</td>\n",
              "      <td>...</td>\n",
              "      <td>0.05 g</td>\n",
              "      <td>0.009 g</td>\n",
              "      <td>0.016 g</td>\n",
              "      <td>0.025 g</td>\n",
              "      <td>0.00 mg</td>\n",
              "      <td>0.0 g</td>\n",
              "      <td>0.09 g</td>\n",
              "      <td>0.00 mg</td>\n",
              "      <td>0.00 mg</td>\n",
              "      <td>8.32 g</td>\n",
              "    </tr>\n",
              "    <tr>\n",
              "      <th>1</th>\n",
              "      <td>Nuts, pecans</td>\n",
              "      <td>100 g</td>\n",
              "      <td>691</td>\n",
              "      <td>72g</td>\n",
              "      <td>6.2g</td>\n",
              "      <td>0</td>\n",
              "      <td>0.00 mg</td>\n",
              "      <td>40.5 mg</td>\n",
              "      <td>22.00 mcg</td>\n",
              "      <td>0.00 mcg</td>\n",
              "      <td>...</td>\n",
              "      <td>71.97 g</td>\n",
              "      <td>6.180 g</td>\n",
              "      <td>40.801 g</td>\n",
              "      <td>21.614 g</td>\n",
              "      <td>0.00 mg</td>\n",
              "      <td>0.0 g</td>\n",
              "      <td>1.49 g</td>\n",
              "      <td>0.00 mg</td>\n",
              "      <td>0.00 mg</td>\n",
              "      <td>3.52 g</td>\n",
              "    </tr>\n",
              "    <tr>\n",
              "      <th>2</th>\n",
              "      <td>Eggplant, raw</td>\n",
              "      <td>100 g</td>\n",
              "      <td>25</td>\n",
              "      <td>0.2g</td>\n",
              "      <td>NaN</td>\n",
              "      <td>0</td>\n",
              "      <td>2.00 mg</td>\n",
              "      <td>6.9 mg</td>\n",
              "      <td>22.00 mcg</td>\n",
              "      <td>0.00 mcg</td>\n",
              "      <td>...</td>\n",
              "      <td>0.18 g</td>\n",
              "      <td>0.034 g</td>\n",
              "      <td>0.016 g</td>\n",
              "      <td>0.076 g</td>\n",
              "      <td>0.00 mg</td>\n",
              "      <td>0.0 g</td>\n",
              "      <td>0.66 g</td>\n",
              "      <td>0.00 mg</td>\n",
              "      <td>0.00 mg</td>\n",
              "      <td>92.30 g</td>\n",
              "    </tr>\n",
              "    <tr>\n",
              "      <th>3</th>\n",
              "      <td>Teff, uncooked</td>\n",
              "      <td>100 g</td>\n",
              "      <td>367</td>\n",
              "      <td>2.4g</td>\n",
              "      <td>0.4g</td>\n",
              "      <td>0</td>\n",
              "      <td>12.00 mg</td>\n",
              "      <td>13.1 mg</td>\n",
              "      <td>0</td>\n",
              "      <td>0</td>\n",
              "      <td>...</td>\n",
              "      <td>2.38 g</td>\n",
              "      <td>0.449 g</td>\n",
              "      <td>0.589 g</td>\n",
              "      <td>1.071 g</td>\n",
              "      <td>0</td>\n",
              "      <td>0</td>\n",
              "      <td>2.37 g</td>\n",
              "      <td>0</td>\n",
              "      <td>0</td>\n",
              "      <td>8.82 g</td>\n",
              "    </tr>\n",
              "    <tr>\n",
              "      <th>4</th>\n",
              "      <td>Sherbet, orange</td>\n",
              "      <td>100 g</td>\n",
              "      <td>144</td>\n",
              "      <td>2g</td>\n",
              "      <td>1.2g</td>\n",
              "      <td>1mg</td>\n",
              "      <td>46.00 mg</td>\n",
              "      <td>7.7 mg</td>\n",
              "      <td>4.00 mcg</td>\n",
              "      <td>0.00 mcg</td>\n",
              "      <td>...</td>\n",
              "      <td>2.00 g</td>\n",
              "      <td>1.160 g</td>\n",
              "      <td>0.530 g</td>\n",
              "      <td>0.080 g</td>\n",
              "      <td>1.00 mg</td>\n",
              "      <td>0.0 g</td>\n",
              "      <td>0.40 g</td>\n",
              "      <td>0.00 mg</td>\n",
              "      <td>0.00 mg</td>\n",
              "      <td>66.10 g</td>\n",
              "    </tr>\n",
              "  </tbody>\n",
              "</table>\n",
              "<p>5 rows × 76 columns</p>\n",
              "</div>\n",
              "      <button class=\"colab-df-convert\" onclick=\"convertToInteractive('df-843f5a08-1774-4228-99df-389e193f82d6')\"\n",
              "              title=\"Convert this dataframe to an interactive table.\"\n",
              "              style=\"display:none;\">\n",
              "        \n",
              "  <svg xmlns=\"http://www.w3.org/2000/svg\" height=\"24px\"viewBox=\"0 0 24 24\"\n",
              "       width=\"24px\">\n",
              "    <path d=\"M0 0h24v24H0V0z\" fill=\"none\"/>\n",
              "    <path d=\"M18.56 5.44l.94 2.06.94-2.06 2.06-.94-2.06-.94-.94-2.06-.94 2.06-2.06.94zm-11 1L8.5 8.5l.94-2.06 2.06-.94-2.06-.94L8.5 2.5l-.94 2.06-2.06.94zm10 10l.94 2.06.94-2.06 2.06-.94-2.06-.94-.94-2.06-.94 2.06-2.06.94z\"/><path d=\"M17.41 7.96l-1.37-1.37c-.4-.4-.92-.59-1.43-.59-.52 0-1.04.2-1.43.59L10.3 9.45l-7.72 7.72c-.78.78-.78 2.05 0 2.83L4 21.41c.39.39.9.59 1.41.59.51 0 1.02-.2 1.41-.59l7.78-7.78 2.81-2.81c.8-.78.8-2.07 0-2.86zM5.41 20L4 18.59l7.72-7.72 1.47 1.35L5.41 20z\"/>\n",
              "  </svg>\n",
              "      </button>\n",
              "      \n",
              "  <style>\n",
              "    .colab-df-container {\n",
              "      display:flex;\n",
              "      flex-wrap:wrap;\n",
              "      gap: 12px;\n",
              "    }\n",
              "\n",
              "    .colab-df-convert {\n",
              "      background-color: #E8F0FE;\n",
              "      border: none;\n",
              "      border-radius: 50%;\n",
              "      cursor: pointer;\n",
              "      display: none;\n",
              "      fill: #1967D2;\n",
              "      height: 32px;\n",
              "      padding: 0 0 0 0;\n",
              "      width: 32px;\n",
              "    }\n",
              "\n",
              "    .colab-df-convert:hover {\n",
              "      background-color: #E2EBFA;\n",
              "      box-shadow: 0px 1px 2px rgba(60, 64, 67, 0.3), 0px 1px 3px 1px rgba(60, 64, 67, 0.15);\n",
              "      fill: #174EA6;\n",
              "    }\n",
              "\n",
              "    [theme=dark] .colab-df-convert {\n",
              "      background-color: #3B4455;\n",
              "      fill: #D2E3FC;\n",
              "    }\n",
              "\n",
              "    [theme=dark] .colab-df-convert:hover {\n",
              "      background-color: #434B5C;\n",
              "      box-shadow: 0px 1px 3px 1px rgba(0, 0, 0, 0.15);\n",
              "      filter: drop-shadow(0px 1px 2px rgba(0, 0, 0, 0.3));\n",
              "      fill: #FFFFFF;\n",
              "    }\n",
              "  </style>\n",
              "\n",
              "      <script>\n",
              "        const buttonEl =\n",
              "          document.querySelector('#df-843f5a08-1774-4228-99df-389e193f82d6 button.colab-df-convert');\n",
              "        buttonEl.style.display =\n",
              "          google.colab.kernel.accessAllowed ? 'block' : 'none';\n",
              "\n",
              "        async function convertToInteractive(key) {\n",
              "          const element = document.querySelector('#df-843f5a08-1774-4228-99df-389e193f82d6');\n",
              "          const dataTable =\n",
              "            await google.colab.kernel.invokeFunction('convertToInteractive',\n",
              "                                                     [key], {});\n",
              "          if (!dataTable) return;\n",
              "\n",
              "          const docLinkHtml = 'Like what you see? Visit the ' +\n",
              "            '<a target=\"_blank\" href=https://colab.research.google.com/notebooks/data_table.ipynb>data table notebook</a>'\n",
              "            + ' to learn more about interactive tables.';\n",
              "          element.innerHTML = '';\n",
              "          dataTable['output_type'] = 'display_data';\n",
              "          await google.colab.output.renderOutput(dataTable, element);\n",
              "          const docLink = document.createElement('div');\n",
              "          docLink.innerHTML = docLinkHtml;\n",
              "          element.appendChild(docLink);\n",
              "        }\n",
              "      </script>\n",
              "    </div>\n",
              "  </div>\n",
              "  "
            ]
          },
          "metadata": {},
          "execution_count": 6
        }
      ]
    },
    {
      "cell_type": "code",
      "source": [
        "data.info()\n"
      ],
      "metadata": {
        "colab": {
          "base_uri": "https://localhost:8080/"
        },
        "id": "3T3CzVF9fBOn",
        "outputId": "aab635b0-5cfe-4984-c25a-d5bdb8a8432f"
      },
      "execution_count": null,
      "outputs": [
        {
          "output_type": "stream",
          "name": "stdout",
          "text": [
            "<class 'pandas.core.frame.DataFrame'>\n",
            "RangeIndex: 8789 entries, 0 to 8788\n",
            "Data columns (total 76 columns):\n",
            " #   Column                       Non-Null Count  Dtype \n",
            "---  ------                       --------------  ----- \n",
            " 0   name                         8789 non-null   object\n",
            " 1   serving_size                 8789 non-null   object\n",
            " 2   calories                     8789 non-null   int64 \n",
            " 3   total_fat                    8789 non-null   object\n",
            " 4   saturated_fat                7199 non-null   object\n",
            " 5   cholesterol                  8789 non-null   object\n",
            " 6   sodium                       8789 non-null   object\n",
            " 7   choline                      8789 non-null   object\n",
            " 8   folate                       8789 non-null   object\n",
            " 9   folic_acid                   8789 non-null   object\n",
            " 10  niacin                       8789 non-null   object\n",
            " 11  pantothenic_acid             8789 non-null   object\n",
            " 12  riboflavin                   8789 non-null   object\n",
            " 13  thiamin                      8789 non-null   object\n",
            " 14  vitamin_a                    8789 non-null   object\n",
            " 15  vitamin_a_rae                8789 non-null   object\n",
            " 16  carotene_alpha               8789 non-null   object\n",
            " 17  carotene_beta                8789 non-null   object\n",
            " 18  cryptoxanthin_beta           8789 non-null   object\n",
            " 19  lutein_zeaxanthin            8789 non-null   object\n",
            " 20  lucopene                     8789 non-null   int64 \n",
            " 21  vitamin_b12                  8789 non-null   object\n",
            " 22  vitamin_b6                   8789 non-null   object\n",
            " 23  vitamin_c                    8789 non-null   object\n",
            " 24  vitamin_d                    8789 non-null   object\n",
            " 25  vitamin_e                    8789 non-null   object\n",
            " 26  tocopherol_alpha             8789 non-null   object\n",
            " 27  vitamin_k                    8789 non-null   object\n",
            " 28  calcium                      8789 non-null   object\n",
            " 29  copper                       8789 non-null   object\n",
            " 30  irom                         8789 non-null   object\n",
            " 31  magnesium                    8789 non-null   object\n",
            " 32  manganese                    8789 non-null   object\n",
            " 33  phosphorous                  8789 non-null   object\n",
            " 34  potassium                    8789 non-null   object\n",
            " 35  selenium                     8789 non-null   object\n",
            " 36  zink                         8789 non-null   object\n",
            " 37  protein                      8789 non-null   object\n",
            " 38  alanine                      8789 non-null   object\n",
            " 39  arginine                     8789 non-null   object\n",
            " 40  aspartic_acid                8789 non-null   object\n",
            " 41  cystine                      8789 non-null   object\n",
            " 42  glutamic_acid                8789 non-null   object\n",
            " 43  glycine                      8789 non-null   object\n",
            " 44  histidine                    8789 non-null   object\n",
            " 45  hydroxyproline               8789 non-null   object\n",
            " 46  isoleucine                   8789 non-null   object\n",
            " 47  leucine                      8789 non-null   object\n",
            " 48  lysine                       8789 non-null   object\n",
            " 49  methionine                   8789 non-null   object\n",
            " 50  phenylalanine                8789 non-null   object\n",
            " 51  proline                      8789 non-null   object\n",
            " 52  serine                       8789 non-null   object\n",
            " 53  threonine                    8789 non-null   object\n",
            " 54  tryptophan                   8789 non-null   object\n",
            " 55  tyrosine                     8789 non-null   object\n",
            " 56  valine                       8789 non-null   object\n",
            " 57  carbohydrate                 8789 non-null   object\n",
            " 58  fiber                        8789 non-null   object\n",
            " 59  sugars                       8789 non-null   object\n",
            " 60  fructose                     8789 non-null   object\n",
            " 61  galactose                    8789 non-null   object\n",
            " 62  glucose                      8789 non-null   object\n",
            " 63  lactose                      8789 non-null   object\n",
            " 64  maltose                      8789 non-null   object\n",
            " 65  sucrose                      8789 non-null   object\n",
            " 66  fat                          8789 non-null   object\n",
            " 67  saturated_fatty_acids        8789 non-null   object\n",
            " 68  monounsaturated_fatty_acids  8789 non-null   object\n",
            " 69  polyunsaturated_fatty_acids  8789 non-null   object\n",
            " 70  fatty_acids_total_trans      8789 non-null   object\n",
            " 71  alcohol                      8789 non-null   object\n",
            " 72  ash                          8789 non-null   object\n",
            " 73  caffeine                     8789 non-null   object\n",
            " 74  theobromine                  8789 non-null   object\n",
            " 75  water                        8789 non-null   object\n",
            "dtypes: int64(2), object(74)\n",
            "memory usage: 5.1+ MB\n"
          ]
        }
      ]
    },
    {
      "cell_type": "code",
      "source": [
        "data = data[['name','serving_size','calories','carbohydrate','total_fat','protein']]\n",
        "print(data.info())\n",
        "data.head()"
      ],
      "metadata": {
        "colab": {
          "base_uri": "https://localhost:8080/",
          "height": 449
        },
        "id": "--MMxzhMfVDi",
        "outputId": "9d54f2fd-630b-45e8-84a0-4d125ff55bd4"
      },
      "execution_count": null,
      "outputs": [
        {
          "output_type": "stream",
          "name": "stdout",
          "text": [
            "<class 'pandas.core.frame.DataFrame'>\n",
            "RangeIndex: 8789 entries, 0 to 8788\n",
            "Data columns (total 6 columns):\n",
            " #   Column        Non-Null Count  Dtype \n",
            "---  ------        --------------  ----- \n",
            " 0   name          8789 non-null   object\n",
            " 1   serving_size  8789 non-null   object\n",
            " 2   calories      8789 non-null   int64 \n",
            " 3   carbohydrate  8789 non-null   object\n",
            " 4   total_fat     8789 non-null   object\n",
            " 5   protein       8789 non-null   object\n",
            "dtypes: int64(1), object(5)\n",
            "memory usage: 412.1+ KB\n",
            "None\n"
          ]
        },
        {
          "output_type": "execute_result",
          "data": {
            "text/plain": [
              "              name serving_size  calories carbohydrate total_fat  protein\n",
              "0       Cornstarch        100 g       381      91.27 g      0.1g   0.26 g\n",
              "1     Nuts, pecans        100 g       691      13.86 g       72g   9.17 g\n",
              "2    Eggplant, raw        100 g        25       5.88 g      0.2g   0.98 g\n",
              "3   Teff, uncooked        100 g       367      73.13 g      2.4g  13.30 g\n",
              "4  Sherbet, orange        100 g       144      30.40 g        2g   1.10 g"
            ],
            "text/html": [
              "\n",
              "  <div id=\"df-09409688-33ca-4a8c-8965-f9e31525b824\">\n",
              "    <div class=\"colab-df-container\">\n",
              "      <div>\n",
              "<style scoped>\n",
              "    .dataframe tbody tr th:only-of-type {\n",
              "        vertical-align: middle;\n",
              "    }\n",
              "\n",
              "    .dataframe tbody tr th {\n",
              "        vertical-align: top;\n",
              "    }\n",
              "\n",
              "    .dataframe thead th {\n",
              "        text-align: right;\n",
              "    }\n",
              "</style>\n",
              "<table border=\"1\" class=\"dataframe\">\n",
              "  <thead>\n",
              "    <tr style=\"text-align: right;\">\n",
              "      <th></th>\n",
              "      <th>name</th>\n",
              "      <th>serving_size</th>\n",
              "      <th>calories</th>\n",
              "      <th>carbohydrate</th>\n",
              "      <th>total_fat</th>\n",
              "      <th>protein</th>\n",
              "    </tr>\n",
              "  </thead>\n",
              "  <tbody>\n",
              "    <tr>\n",
              "      <th>0</th>\n",
              "      <td>Cornstarch</td>\n",
              "      <td>100 g</td>\n",
              "      <td>381</td>\n",
              "      <td>91.27 g</td>\n",
              "      <td>0.1g</td>\n",
              "      <td>0.26 g</td>\n",
              "    </tr>\n",
              "    <tr>\n",
              "      <th>1</th>\n",
              "      <td>Nuts, pecans</td>\n",
              "      <td>100 g</td>\n",
              "      <td>691</td>\n",
              "      <td>13.86 g</td>\n",
              "      <td>72g</td>\n",
              "      <td>9.17 g</td>\n",
              "    </tr>\n",
              "    <tr>\n",
              "      <th>2</th>\n",
              "      <td>Eggplant, raw</td>\n",
              "      <td>100 g</td>\n",
              "      <td>25</td>\n",
              "      <td>5.88 g</td>\n",
              "      <td>0.2g</td>\n",
              "      <td>0.98 g</td>\n",
              "    </tr>\n",
              "    <tr>\n",
              "      <th>3</th>\n",
              "      <td>Teff, uncooked</td>\n",
              "      <td>100 g</td>\n",
              "      <td>367</td>\n",
              "      <td>73.13 g</td>\n",
              "      <td>2.4g</td>\n",
              "      <td>13.30 g</td>\n",
              "    </tr>\n",
              "    <tr>\n",
              "      <th>4</th>\n",
              "      <td>Sherbet, orange</td>\n",
              "      <td>100 g</td>\n",
              "      <td>144</td>\n",
              "      <td>30.40 g</td>\n",
              "      <td>2g</td>\n",
              "      <td>1.10 g</td>\n",
              "    </tr>\n",
              "  </tbody>\n",
              "</table>\n",
              "</div>\n",
              "      <button class=\"colab-df-convert\" onclick=\"convertToInteractive('df-09409688-33ca-4a8c-8965-f9e31525b824')\"\n",
              "              title=\"Convert this dataframe to an interactive table.\"\n",
              "              style=\"display:none;\">\n",
              "        \n",
              "  <svg xmlns=\"http://www.w3.org/2000/svg\" height=\"24px\"viewBox=\"0 0 24 24\"\n",
              "       width=\"24px\">\n",
              "    <path d=\"M0 0h24v24H0V0z\" fill=\"none\"/>\n",
              "    <path d=\"M18.56 5.44l.94 2.06.94-2.06 2.06-.94-2.06-.94-.94-2.06-.94 2.06-2.06.94zm-11 1L8.5 8.5l.94-2.06 2.06-.94-2.06-.94L8.5 2.5l-.94 2.06-2.06.94zm10 10l.94 2.06.94-2.06 2.06-.94-2.06-.94-.94-2.06-.94 2.06-2.06.94z\"/><path d=\"M17.41 7.96l-1.37-1.37c-.4-.4-.92-.59-1.43-.59-.52 0-1.04.2-1.43.59L10.3 9.45l-7.72 7.72c-.78.78-.78 2.05 0 2.83L4 21.41c.39.39.9.59 1.41.59.51 0 1.02-.2 1.41-.59l7.78-7.78 2.81-2.81c.8-.78.8-2.07 0-2.86zM5.41 20L4 18.59l7.72-7.72 1.47 1.35L5.41 20z\"/>\n",
              "  </svg>\n",
              "      </button>\n",
              "      \n",
              "  <style>\n",
              "    .colab-df-container {\n",
              "      display:flex;\n",
              "      flex-wrap:wrap;\n",
              "      gap: 12px;\n",
              "    }\n",
              "\n",
              "    .colab-df-convert {\n",
              "      background-color: #E8F0FE;\n",
              "      border: none;\n",
              "      border-radius: 50%;\n",
              "      cursor: pointer;\n",
              "      display: none;\n",
              "      fill: #1967D2;\n",
              "      height: 32px;\n",
              "      padding: 0 0 0 0;\n",
              "      width: 32px;\n",
              "    }\n",
              "\n",
              "    .colab-df-convert:hover {\n",
              "      background-color: #E2EBFA;\n",
              "      box-shadow: 0px 1px 2px rgba(60, 64, 67, 0.3), 0px 1px 3px 1px rgba(60, 64, 67, 0.15);\n",
              "      fill: #174EA6;\n",
              "    }\n",
              "\n",
              "    [theme=dark] .colab-df-convert {\n",
              "      background-color: #3B4455;\n",
              "      fill: #D2E3FC;\n",
              "    }\n",
              "\n",
              "    [theme=dark] .colab-df-convert:hover {\n",
              "      background-color: #434B5C;\n",
              "      box-shadow: 0px 1px 3px 1px rgba(0, 0, 0, 0.15);\n",
              "      filter: drop-shadow(0px 1px 2px rgba(0, 0, 0, 0.3));\n",
              "      fill: #FFFFFF;\n",
              "    }\n",
              "  </style>\n",
              "\n",
              "      <script>\n",
              "        const buttonEl =\n",
              "          document.querySelector('#df-09409688-33ca-4a8c-8965-f9e31525b824 button.colab-df-convert');\n",
              "        buttonEl.style.display =\n",
              "          google.colab.kernel.accessAllowed ? 'block' : 'none';\n",
              "\n",
              "        async function convertToInteractive(key) {\n",
              "          const element = document.querySelector('#df-09409688-33ca-4a8c-8965-f9e31525b824');\n",
              "          const dataTable =\n",
              "            await google.colab.kernel.invokeFunction('convertToInteractive',\n",
              "                                                     [key], {});\n",
              "          if (!dataTable) return;\n",
              "\n",
              "          const docLinkHtml = 'Like what you see? Visit the ' +\n",
              "            '<a target=\"_blank\" href=https://colab.research.google.com/notebooks/data_table.ipynb>data table notebook</a>'\n",
              "            + ' to learn more about interactive tables.';\n",
              "          element.innerHTML = '';\n",
              "          dataTable['output_type'] = 'display_data';\n",
              "          await google.colab.output.renderOutput(dataTable, element);\n",
              "          const docLink = document.createElement('div');\n",
              "          docLink.innerHTML = docLinkHtml;\n",
              "          element.appendChild(docLink);\n",
              "        }\n",
              "      </script>\n",
              "    </div>\n",
              "  </div>\n",
              "  "
            ]
          },
          "metadata": {},
          "execution_count": 8
        }
      ]
    },
    {
      "cell_type": "code",
      "source": [
        "sns.countplot(data.serving_size)"
      ],
      "metadata": {
        "colab": {
          "base_uri": "https://localhost:8080/",
          "height": 311
        },
        "id": "z-5xJ9ATftAd",
        "outputId": "344def75-0bae-43f5-9fd2-9db85d014ac8"
      },
      "execution_count": null,
      "outputs": [
        {
          "output_type": "error",
          "ename": "ValueError",
          "evalue": "ignored",
          "traceback": [
            "\u001b[0;31m---------------------------------------------------------------------------\u001b[0m",
            "\u001b[0;31mValueError\u001b[0m                                Traceback (most recent call last)",
            "\u001b[0;32m<ipython-input-9-efcbf3120bfc>\u001b[0m in \u001b[0;36m<module>\u001b[0;34m\u001b[0m\n\u001b[0;32m----> 1\u001b[0;31m \u001b[0msns\u001b[0m\u001b[0;34m.\u001b[0m\u001b[0mcountplot\u001b[0m\u001b[0;34m(\u001b[0m\u001b[0mdata\u001b[0m\u001b[0;34m.\u001b[0m\u001b[0mserving_size\u001b[0m\u001b[0;34m)\u001b[0m\u001b[0;34m\u001b[0m\u001b[0;34m\u001b[0m\u001b[0m\n\u001b[0m",
            "\u001b[0;32m/usr/local/lib/python3.9/dist-packages/seaborn/categorical.py\u001b[0m in \u001b[0;36mcountplot\u001b[0;34m(data, x, y, hue, order, hue_order, orient, color, palette, saturation, width, dodge, ax, **kwargs)\u001b[0m\n\u001b[1;32m   2941\u001b[0m         \u001b[0;32mraise\u001b[0m \u001b[0mValueError\u001b[0m\u001b[0;34m(\u001b[0m\u001b[0;34m\"Cannot pass values for both `x` and `y`\"\u001b[0m\u001b[0;34m)\u001b[0m\u001b[0;34m\u001b[0m\u001b[0;34m\u001b[0m\u001b[0m\n\u001b[1;32m   2942\u001b[0m \u001b[0;34m\u001b[0m\u001b[0m\n\u001b[0;32m-> 2943\u001b[0;31m     plotter = _CountPlotter(\n\u001b[0m\u001b[1;32m   2944\u001b[0m         \u001b[0mx\u001b[0m\u001b[0;34m,\u001b[0m \u001b[0my\u001b[0m\u001b[0;34m,\u001b[0m \u001b[0mhue\u001b[0m\u001b[0;34m,\u001b[0m \u001b[0mdata\u001b[0m\u001b[0;34m,\u001b[0m \u001b[0morder\u001b[0m\u001b[0;34m,\u001b[0m \u001b[0mhue_order\u001b[0m\u001b[0;34m,\u001b[0m\u001b[0;34m\u001b[0m\u001b[0;34m\u001b[0m\u001b[0m\n\u001b[1;32m   2945\u001b[0m         \u001b[0mestimator\u001b[0m\u001b[0;34m,\u001b[0m \u001b[0merrorbar\u001b[0m\u001b[0;34m,\u001b[0m \u001b[0mn_boot\u001b[0m\u001b[0;34m,\u001b[0m \u001b[0munits\u001b[0m\u001b[0;34m,\u001b[0m \u001b[0mseed\u001b[0m\u001b[0;34m,\u001b[0m\u001b[0;34m\u001b[0m\u001b[0;34m\u001b[0m\u001b[0m\n",
            "\u001b[0;32m/usr/local/lib/python3.9/dist-packages/seaborn/categorical.py\u001b[0m in \u001b[0;36m__init__\u001b[0;34m(self, x, y, hue, data, order, hue_order, estimator, errorbar, n_boot, units, seed, orient, color, palette, saturation, width, errcolor, errwidth, capsize, dodge)\u001b[0m\n\u001b[1;32m   1528\u001b[0m                  errcolor, errwidth, capsize, dodge):\n\u001b[1;32m   1529\u001b[0m         \u001b[0;34m\"\"\"Initialize the plotter.\"\"\"\u001b[0m\u001b[0;34m\u001b[0m\u001b[0;34m\u001b[0m\u001b[0m\n\u001b[0;32m-> 1530\u001b[0;31m         self.establish_variables(x, y, hue, data, orient,\n\u001b[0m\u001b[1;32m   1531\u001b[0m                                  order, hue_order, units)\n\u001b[1;32m   1532\u001b[0m         \u001b[0mself\u001b[0m\u001b[0;34m.\u001b[0m\u001b[0mestablish_colors\u001b[0m\u001b[0;34m(\u001b[0m\u001b[0mcolor\u001b[0m\u001b[0;34m,\u001b[0m \u001b[0mpalette\u001b[0m\u001b[0;34m,\u001b[0m \u001b[0msaturation\u001b[0m\u001b[0;34m)\u001b[0m\u001b[0;34m\u001b[0m\u001b[0;34m\u001b[0m\u001b[0m\n",
            "\u001b[0;32m/usr/local/lib/python3.9/dist-packages/seaborn/categorical.py\u001b[0m in \u001b[0;36mestablish_variables\u001b[0;34m(self, x, y, hue, data, orient, order, hue_order, units)\u001b[0m\n\u001b[1;32m    514\u001b[0m \u001b[0;34m\u001b[0m\u001b[0m\n\u001b[1;32m    515\u001b[0m                 \u001b[0;31m# Convert to a list of arrays, the common representation\u001b[0m\u001b[0;34m\u001b[0m\u001b[0;34m\u001b[0m\u001b[0m\n\u001b[0;32m--> 516\u001b[0;31m                 \u001b[0mplot_data\u001b[0m \u001b[0;34m=\u001b[0m \u001b[0;34m[\u001b[0m\u001b[0mnp\u001b[0m\u001b[0;34m.\u001b[0m\u001b[0masarray\u001b[0m\u001b[0;34m(\u001b[0m\u001b[0md\u001b[0m\u001b[0;34m,\u001b[0m \u001b[0mfloat\u001b[0m\u001b[0;34m)\u001b[0m \u001b[0;32mfor\u001b[0m \u001b[0md\u001b[0m \u001b[0;32min\u001b[0m \u001b[0mplot_data\u001b[0m\u001b[0;34m]\u001b[0m\u001b[0;34m\u001b[0m\u001b[0;34m\u001b[0m\u001b[0m\n\u001b[0m\u001b[1;32m    517\u001b[0m \u001b[0;34m\u001b[0m\u001b[0m\n\u001b[1;32m    518\u001b[0m                 \u001b[0;31m# The group names will just be numeric indices\u001b[0m\u001b[0;34m\u001b[0m\u001b[0;34m\u001b[0m\u001b[0m\n",
            "\u001b[0;32m/usr/local/lib/python3.9/dist-packages/seaborn/categorical.py\u001b[0m in \u001b[0;36m<listcomp>\u001b[0;34m(.0)\u001b[0m\n\u001b[1;32m    514\u001b[0m \u001b[0;34m\u001b[0m\u001b[0m\n\u001b[1;32m    515\u001b[0m                 \u001b[0;31m# Convert to a list of arrays, the common representation\u001b[0m\u001b[0;34m\u001b[0m\u001b[0;34m\u001b[0m\u001b[0m\n\u001b[0;32m--> 516\u001b[0;31m                 \u001b[0mplot_data\u001b[0m \u001b[0;34m=\u001b[0m \u001b[0;34m[\u001b[0m\u001b[0mnp\u001b[0m\u001b[0;34m.\u001b[0m\u001b[0masarray\u001b[0m\u001b[0;34m(\u001b[0m\u001b[0md\u001b[0m\u001b[0;34m,\u001b[0m \u001b[0mfloat\u001b[0m\u001b[0;34m)\u001b[0m \u001b[0;32mfor\u001b[0m \u001b[0md\u001b[0m \u001b[0;32min\u001b[0m \u001b[0mplot_data\u001b[0m\u001b[0;34m]\u001b[0m\u001b[0;34m\u001b[0m\u001b[0;34m\u001b[0m\u001b[0m\n\u001b[0m\u001b[1;32m    517\u001b[0m \u001b[0;34m\u001b[0m\u001b[0m\n\u001b[1;32m    518\u001b[0m                 \u001b[0;31m# The group names will just be numeric indices\u001b[0m\u001b[0;34m\u001b[0m\u001b[0;34m\u001b[0m\u001b[0m\n",
            "\u001b[0;32m/usr/local/lib/python3.9/dist-packages/pandas/core/series.py\u001b[0m in \u001b[0;36m__array__\u001b[0;34m(self, dtype)\u001b[0m\n\u001b[1;32m    870\u001b[0m               dtype='datetime64[ns]')\n\u001b[1;32m    871\u001b[0m         \"\"\"\n\u001b[0;32m--> 872\u001b[0;31m         \u001b[0;32mreturn\u001b[0m \u001b[0mnp\u001b[0m\u001b[0;34m.\u001b[0m\u001b[0masarray\u001b[0m\u001b[0;34m(\u001b[0m\u001b[0mself\u001b[0m\u001b[0;34m.\u001b[0m\u001b[0m_values\u001b[0m\u001b[0;34m,\u001b[0m \u001b[0mdtype\u001b[0m\u001b[0;34m)\u001b[0m\u001b[0;34m\u001b[0m\u001b[0;34m\u001b[0m\u001b[0m\n\u001b[0m\u001b[1;32m    873\u001b[0m \u001b[0;34m\u001b[0m\u001b[0m\n\u001b[1;32m    874\u001b[0m     \u001b[0;31m# ----------------------------------------------------------------------\u001b[0m\u001b[0;34m\u001b[0m\u001b[0;34m\u001b[0m\u001b[0m\n",
            "\u001b[0;31mValueError\u001b[0m: could not convert string to float: '100 g'"
          ]
        }
      ]
    },
    {
      "cell_type": "code",
      "source": [
        "data = data.drop('serving_size',axis=1)\n",
        "data.info()"
      ],
      "metadata": {
        "id": "P02yBhpcf5yk"
      },
      "execution_count": null,
      "outputs": []
    },
    {
      "cell_type": "code",
      "source": [
        "data['carbohydrate'] = np.array([data['carbohydrate'].tolist()[i].split(' ') for i in range(len(data))])[:,0].astype('float')\n",
        "data['protein'] = np.array([data['protein'].tolist()[i].split(' ') for i in range(len(data))])[:,0].astype('float')\n",
        "data['total_fat'] = np.array([data['total_fat'].tolist()[i].split('g') for i in range(len(data))])[:,0].astype('float')"
      ],
      "metadata": {
        "id": "-we50kHAgB_A"
      },
      "execution_count": null,
      "outputs": []
    },
    {
      "cell_type": "code",
      "source": [
        "week_days = ['Monday','Tuesday','Wednesday','Thursday','Friday','Saturday','Sunday']\n",
        "split_values = np.linspace(0,len(data),8).astype(int)\n",
        "split_values[-1] = split_values[-1]-1\n",
        "def random_dataset():\n",
        "    frac_data = data.sample(frac=1).reset_index().drop('index',axis=1)\n",
        "    day_data = []\n",
        "    for s in range(len(split_values)-1):\n",
        "        day_data.append(frac_data.loc[split_values[s]:split_values[s+1]])\n",
        "    return dict(zip(week_days,day_data))"
      ],
      "metadata": {
        "id": "vPHbXtergGVu"
      },
      "execution_count": null,
      "outputs": []
    },
    {
      "cell_type": "code",
      "source": [
        "random_dataset()['Monday']"
      ],
      "metadata": {
        "id": "PXK42jnsgTKU"
      },
      "execution_count": null,
      "outputs": []
    },
    {
      "cell_type": "code",
      "source": [
        "def build_nutritional_values(kg,calories):\n",
        "    protein_calories = kg*4\n",
        "    res_calories = calories-protein_calories\n",
        "    carb_calories = calories/2.\n",
        "    fat_calories = calories-carb_calories-protein_calories\n",
        "    res = {'Protein Calories':protein_calories,'Carbohydrates Calories':carb_calories,'Fat Calories':fat_calories}\n",
        "    return res"
      ],
      "metadata": {
        "id": "GhmEJsjbglC5"
      },
      "execution_count": null,
      "outputs": []
    },
    {
      "cell_type": "code",
      "source": [
        "def extract_gram(table):\n",
        "    protein_grams = table['Protein Calories']/4.\n",
        "    carbs_grams = table['Carbohydrates Calories']/4.\n",
        "    fat_grams = table['Fat Calories']/9.\n",
        "    res = {'Protein Grams':protein_grams, 'Carbohydrates Grams':carbs_grams,'Fat Grams':fat_grams}\n",
        "    return res"
      ],
      "metadata": {
        "id": "kfjNsvR9gsvj"
      },
      "execution_count": null,
      "outputs": []
    },
    {
      "cell_type": "code",
      "source": [
        "build_nutritional_values(70,2000)"
      ],
      "metadata": {
        "id": "Zv6Nz5jJg0_L"
      },
      "execution_count": null,
      "outputs": []
    },
    {
      "cell_type": "code",
      "source": [
        "print(extract_gram(build_nutritional_values(70,2000)))"
      ],
      "metadata": {
        "id": "q9G3Oqbeg8SL"
      },
      "execution_count": null,
      "outputs": []
    },
    {
      "cell_type": "code",
      "source": [
        "days_data = random_dataset()\n",
        "def model(day,kg,calories):\n",
        "    G = extract_gram(build_nutritional_values(kg,calories))\n",
        "    E = G['Carbohydrates Grams']\n",
        "    F = G['Fat Grams']\n",
        "    P = G['Protein Grams']\n",
        "    day_data = days_data[day]\n",
        "    day_data = day_data[day_data.calories!=0]\n",
        "    food = day_data.name.tolist()\n",
        "    c  = day_data.calories.tolist()\n",
        "    x  = pulp.LpVariable.dicts( \"x\", indices = food, lowBound=0, upBound=1.5, cat='Continuous', indexStart=[] )\n",
        "    e = day_data.carbohydrate.tolist()\n",
        "    f = day_data.total_fat.tolist()\n",
        "    p = day_data.protein.tolist()\n",
        "    prob  = pulp.LpProblem( \"Diet\", LpMinimize )\n",
        "    prob += pulp.lpSum( [x[food[i]]*c[i] for i in range(len(food))]  )\n",
        "    prob += pulp.lpSum( [x[food[i]]*e[i] for i in range(len(x)) ] )>=E\n",
        "    prob += pulp.lpSum( [x[food[i]]*f[i] for i in range(len(x)) ] )>=F\n",
        "    prob += pulp.lpSum( [x[food[i]]*p[i] for i in range(len(x)) ] )>=P\n",
        "    prob.solve()\n",
        "    variables = []\n",
        "    values = []\n",
        "    for v in prob.variables():\n",
        "        variable = v.name\n",
        "        value = v.varValue\n",
        "        variables.append(variable)\n",
        "        values.append(value)\n",
        "    values = np.array(values).round(2).astype(float)\n",
        "    sol = pd.DataFrame(np.array([food,values]).T, columns = ['Food','Quantity'])\n",
        "    sol['Quantity'] = sol.Quantity.astype(float)\n",
        "    return sol"
      ],
      "metadata": {
        "id": "0Ats3hSNhA5J"
      },
      "execution_count": null,
      "outputs": []
    },
    {
      "cell_type": "code",
      "source": [
        "sol_monday = model('Monday',70,1500)"
      ],
      "metadata": {
        "id": "SYs8gDihiylA"
      },
      "execution_count": null,
      "outputs": []
    },
    {
      "cell_type": "code",
      "source": [
        "sol_monday = sol_monday[sol_monday['Quantity']!=0.0]\n",
        "sol_monday.Quantity = sol_monday.Quantity*100\n",
        "sol_monday = sol_monday.rename(columns={'Quantity':'Quantity (g)'})\n",
        "sol_monday"
      ],
      "metadata": {
        "id": "A4XrMro4jAk7"
      },
      "execution_count": null,
      "outputs": []
    },
    {
      "cell_type": "code",
      "source": [
        "def model(prob,day,kg,calories):\n",
        "    G = extract_gram(build_nutritional_values(kg,calories))\n",
        "    E = G['Carbohydrates Grams']\n",
        "    F = G['Fat Grams']\n",
        "    P = G['Protein Grams']\n",
        "    day_data = days_data[day]\n",
        "    day_data = day_data[day_data.calories!=0]\n",
        "    food = day_data.name.tolist()\n",
        "    c  = day_data.calories.tolist()\n",
        "    x  = pulp.LpVariable.dicts( \"x\", indices = food, lowBound=0, upBound=1.5, cat='Continuous', indexStart=[] )\n",
        "    e = day_data.carbohydrate.tolist()\n",
        "    f = day_data.total_fat.tolist()\n",
        "    p = day_data.protein.tolist()\n",
        "#    prob  = pulp.LpProblem( \"Diet\", LpMinimize )\n",
        "    prob += pulp.lpSum( [x[food[i]]*c[i] for i in range(len(food))]  )\n",
        "    prob += pulp.lpSum( [x[food[i]]*e[i] for i in range(len(x)) ] )>=E\n",
        "    prob += pulp.lpSum( [x[food[i]]*f[i] for i in range(len(x)) ] )>=F\n",
        "    prob += pulp.lpSum( [x[food[i]]*p[i] for i in range(len(x)) ] )>=P\n",
        "    prob.solve()\n",
        "    variables = []\n",
        "    values = []\n",
        "    for v in prob.variables():\n",
        "        variable = v.name\n",
        "        value = v.varValue\n",
        "        variables.append(variable)\n",
        "        values.append(value)\n",
        "    values = np.array(values).round(2).astype(float)\n",
        "    sol = pd.DataFrame(np.array([food,values]).T, columns = ['Food','Quantity'])\n",
        "    sol['Quantity'] = sol.Quantity.astype(float)\n",
        "    sol = sol[sol['Quantity']!=0.0]\n",
        "    sol.Quantity = sol.Quantity*100\n",
        "    sol = sol.rename(columns={'Quantity':'Quantity (g)'})\n",
        "    return sol\n",
        "def total_model(kg,calories):\n",
        "    result = []\n",
        "    for day in week_days:\n",
        "        prob  = pulp.LpProblem( \"Diet\", LpMinimize )\n",
        "        print('Building a model for day %s \\n'%(day))\n",
        "        result.append(model(prob,day,kg,calories))\n",
        "    return dict(zip(week_days,result))"
      ],
      "metadata": {
        "id": "3y-HcSx9jIi0"
      },
      "execution_count": null,
      "outputs": []
    },
    {
      "cell_type": "code",
      "source": [
        "diet = total_model(70,3000)"
      ],
      "metadata": {
        "id": "peZwAffFjQMR"
      },
      "execution_count": null,
      "outputs": []
    },
    {
      "cell_type": "code",
      "source": [
        "diet"
      ],
      "metadata": {
        "id": "KeO9PluOjXf4"
      },
      "execution_count": null,
      "outputs": []
    },
    {
      "cell_type": "code",
      "source": [
        "split_size = np.linspace(0,len(data),8)"
      ],
      "metadata": {
        "id": "jw-H1ge1qZy2"
      },
      "execution_count": null,
      "outputs": []
    },
    {
      "cell_type": "code",
      "source": [
        "\n",
        "# def better_model(kg,calories):\n",
        "#     # days_data = random_dataset_day()\n",
        "#     res_model = []\n",
        "#     for day in week_days:\n",
        "#         day_data = days_data[day]\n",
        "#         meals_data = random_dataset_meal(day_data)\n",
        "#         meal_model = []\n",
        "#         for meal in meals:\n",
        "#             meal_data = meals_data[meal]\n",
        "#             prob  = pulp.LpProblem( \"Diet\", LpMinimize )\n",
        "#             sol_model = model(prob,kg,calories,meal,meal_data)\n",
        "#             meal_model.append(sol_model)\n",
        "#         res_model.append(meal_model)\n",
        "#     unpacked = []\n",
        "#     for i in range(len(res_model)):\n",
        "#         unpacked.append(dict(zip(meals,model_res[i])))\n",
        "#     unpacked_tot = dict(zip(week_days,unpacked))\n",
        "#     return unpacked_tot\n",
        "def better_model(kg, calories):\n",
        "    days_data = random_dataset()\n",
        "    meals=['snack1','snack2','breakfast','lunch','dinner']\n",
        "    res_model = {}\n",
        "    for day in week_days:\n",
        "        day_data = days_data[day]\n",
        "        meals_data = random_dataset()\n",
        "        day_model = {}\n",
        "        for meal in meals:\n",
        "            meal_data = meals_data[meals]\n",
        "            prob = pulp.LpProblem(\"Diet\", LpMinimize)\n",
        "            meal_sol = model(prob, day, kg, calories, meal_data)\n",
        "            day_model[meal] = meal_sol\n",
        "        res_model[day] = day_model\n",
        "    return res_model\n"
      ],
      "metadata": {
        "id": "WoOzu6rCpz_Z"
      },
      "execution_count": null,
      "outputs": []
    },
    {
      "cell_type": "code",
      "source": [
        "diet = better_model(70,1500)"
      ],
      "metadata": {
        "id": "E4iw5e1BqHJs"
      },
      "execution_count": null,
      "outputs": []
    },
    {
      "cell_type": "code",
      "source": [
        "diet['Monday']"
      ],
      "metadata": {
        "id": "DavIGznAp30n"
      },
      "execution_count": null,
      "outputs": []
    }
  ]
}